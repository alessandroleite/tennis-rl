{
 "cells": [
  {
   "cell_type": "markdown",
   "metadata": {},
   "source": [
    "# Collaboration and Competition\n",
    "\n",
    "---\n",
    "\n",
    "This notebook uses the [Unity ML-Agents](https://github.com/Unity-Technologies/ml-agents/) environment to train two agents to play tennis.\n",
    "\n",
    "## 1. Start the Environment\n",
    "\n",
    "If the code cell below returns an error, please double-check that you have installed [Unity ML-Agents](https://github.com/Unity-Technologies/ml-agents/blob/master/docs/Installation.md) and all the required libraries."
   ]
  },
  {
   "cell_type": "code",
   "execution_count": null,
   "metadata": {},
   "outputs": [],
   "source": [
    "from collections import deque\n",
    "\n",
    "from unityagents import UnityEnvironment\n",
    "\n",
    "import numpy as np\n",
    "import pandas as pd\n",
    "import torch\n",
    "\n",
    "import matplotlib.pyplot as plt\n",
    "%matplotlib inline"
   ]
  },
  {
   "cell_type": "code",
   "execution_count": null,
   "metadata": {},
   "outputs": [],
   "source": [
    "from ddpg.environment import TennisEnvironment\n",
    "env = TennisEnvironment(UnityEnvironment(file_name=\"/data/Tennis_Linux_NoVis/Tennis\"))"
   ]
  },
  {
   "cell_type": "markdown",
   "metadata": {},
   "source": [
    "Environments contain **_brains_** which are responsible for deciding the actions of their associated agents."
   ]
  },
  {
   "cell_type": "markdown",
   "metadata": {},
   "source": [
    "## 2. State and Action Spaces\n",
    "\n",
    "In this environment, two agents control rackets to bounce a ball over a net. If an agent hits the ball over the net, it receives a reward of +0.1. If an agent lets a ball hit the ground or hits the ball out of bounds, it receives a reward of -0.01.  Thus, the goal of each agent is to keep the ball in play.\n",
    "\n",
    "The observation space consists of 8 variables corresponding to the position and velocity of the ball and racket. Each agent receives its own, local observation.  Two continuous actions are available, corresponding to movement toward or away from the net, and jumping. \n",
    "\n",
    "The task is episodic, and in order to solve the environment, the agents must get an average score of +0.5 over 100 consecutive episodes, after taking the maximum over both agents. Specifically,\n",
    "\n",
    "- After each episode, we add up the rewards that each agent received without discounting, to get a score for each agent. This yields two potentially different scores. We then take the maximum of these 2 scores.\n",
    "- This yields a single **score** for each episode.\n",
    "\n",
    "The environment is considered solved, when the average over 100 episodes of those **scores** is at least +0.5.\n",
    "\n",
    "Run the code cell below to print some information about the environment."
   ]
  },
  {
   "cell_type": "markdown",
   "metadata": {},
   "source": [
    "### 2.1 Examine state and action spaces"
   ]
  },
  {
   "cell_type": "code",
   "execution_count": 24,
   "metadata": {},
   "outputs": [
    {
     "name": "stdout",
     "output_type": "stream",
     "text": [
      "There are 2 agents. Each observes a state with length: 24\n",
      "The state for the first agent looks like: [ 0.          0.          0.          0.          0.          0.          0.\n",
      "  0.          0.          0.          0.          0.          0.          0.\n",
      "  0.          0.         -6.72467375 -1.5        -0.          0.\n",
      " -6.24645233  5.98822832 -0.          0.        ]\n"
     ]
    }
   ],
   "source": [
    "print('There are {} agents. Each observes a state with length: {}'.format(env.num_agents, env.state_size))\n",
    "print('The state for the first agent looks like:', env.reset(train_mode=True)[0])"
   ]
  },
  {
   "cell_type": "markdown",
   "metadata": {},
   "source": [
    "## 3. Define the training policy"
   ]
  },
  {
   "cell_type": "code",
   "execution_count": null,
   "metadata": {},
   "outputs": [],
   "source": [
    "def maddpg(agent, n_episodes=10000, max_t=1000):\n",
    "    \n",
    "    scores = []                        # list with the scores from each episode\n",
    "    scores_window = deque(maxlen=100)  # last 10 scores\n",
    "    scores_window_mean =  []           # the mean of the last 10 episodes\n",
    "    scores_window_std  =  []           # std of the last 10 episodes\n",
    "    \n",
    "    for episode in range(1, n_episodes+1):\n",
    "        states = env.reset(train_mode=True)\n",
    "        score = np.zeros(len(agent))\n",
    "        for t in range(max_t):\n",
    "            actions = agent.act(states)\n",
    "            next_states, rewards, dones = env.step(actions)\n",
    "            agent.step(states, actions, rewards, next_states, dones)\n",
    "            states = next_states\n",
    "            score += rewards\n",
    "            \n",
    "            if np.any(dones):\n",
    "                break\n",
    "\n",
    "        scores.append(np.max(score))\n",
    "        scores_window.append(np.max(score))\n",
    "        scores_window_mean.append(np.mean(scores_window))\n",
    "        scores_window_std.append(np.std(scores_window))\n",
    "        \n",
    "        \n",
    "        print('\\rEpisode {}\\tAverage Score: {:.3f}\\tstd: {:.3f}\\tScore: {:.3f}'.format(episode, scores_window_mean[-1], scores_window_std[-1], np.max(score)), end=\"\")\n",
    "        \n",
    "        if episode % 100 == 0:\n",
    "            print('\\rEpisode {}\\tAverage Score: {:.3f}\\tstd: {:.3f}\\tScore: {:.3f}'.format(episode, scores_window_mean[-1], scores_window_std[-1], np.max(score)))\n",
    "        \n",
    "        if scores_window_mean[-1] > 0.5:\n",
    "            print('\\nEnvironment solved in {:d} episodes!\\tScore: {:.3f}'.format(episode, scores_window_std[-1]))\n",
    "            \n",
    "            filename = \"checkpoints/{}_checkpoint_{}_{}.pth\"\n",
    "\n",
    "            for id in np.arange(len(agent)):\n",
    "                torch.save(agent[id].actor_local.state_dict(),  filename.format(agent.__name__, \"actor\", id))\n",
    "                torch.save(agent[id].critic_local.state_dict(), filename.format(agent.__name__, \"critic\", id))\n",
    "            break\n",
    "            \n",
    "    return scores, scores_window_mean, scores_window_std    "
   ]
  },
  {
   "cell_type": "markdown",
   "metadata": {},
   "source": [
    "MADDPG Agent"
   ]
  },
  {
   "cell_type": "code",
   "execution_count": null,
   "metadata": {},
   "outputs": [],
   "source": [
    "import sys\n",
    "sys.path.append(\"../\")\n",
    "\n",
    "from ddpg.multiagent import MultiAgent\n",
    "agent = MultiAgent(env.num_agents, env.state_size, env.action_size, buffer_size=int(1e5), seed=0, update_frequency=2)"
   ]
  },
  {
   "cell_type": "markdown",
   "metadata": {},
   "source": [
    "Checking the architecture of actor and critic networks of the agents"
   ]
  },
  {
   "cell_type": "code",
   "execution_count": null,
   "metadata": {},
   "outputs": [],
   "source": [
    "for id in np.arange(len(agent)):\n",
    "    print(\"agent:\", id + 1)\n",
    "    print(agent[id].actor_local)\n",
    "    print(agent[id].critic_local)\n",
    "    print(\"\\n\")"
   ]
  },
  {
   "cell_type": "markdown",
   "metadata": {},
   "source": [
    "Training the agents"
   ]
  },
  {
   "cell_type": "code",
   "execution_count": null,
   "metadata": {},
   "outputs": [],
   "source": [
    "scores, scores_window_mean, scores_window_std = maddpg(agent)"
   ]
  },
  {
   "cell_type": "markdown",
   "metadata": {},
   "source": [
    "## 4. Plot the scores"
   ]
  },
  {
   "cell_type": "code",
   "execution_count": null,
   "metadata": {},
   "outputs": [],
   "source": [
    "def plot_scores(scores, rolling_mean, rolling_std, title, filename=''):\n",
    "    \n",
    "    \"\"\"Plot the scores with the moving average\"\"\"\n",
    "    \n",
    "    fig = plt.figure(figsize=(8,4))\n",
    "    ax = fig.add_subplot(111)\n",
    "    \n",
    "    ax.axhline(y=0.5, xmin=0.0, xmax=1.0, color='r', linestyle='--', alpha=0.9, label=\"Score threshold baseline\")\n",
    "    \n",
    "    plt.plot(np.arange(len(scores)), scores);\n",
    "    plt.plot(np.arange(len(rolling_mean)), rolling_mean,label='Moving average');\n",
    "    plt.fill_between(np.arange(len(rolling_mean)), rolling_mean + rolling_std, rolling_mean - rolling_std, \n",
    "                     facecolor='green', alpha=0.4, label=\"Std of the moving average\");\n",
    "    plt.ylabel(\"Score\"); plt.xlabel(\"Episode #\"); plt.title(title);\n",
    "    ax.legend(loc='upper left')\n",
    "    ax.set_xlim(0, len(scores) + 1)\n",
    "    \n",
    "    if filename != '':\n",
    "        fig.savefig(filename, format='pdf')"
   ]
  },
  {
   "cell_type": "code",
   "execution_count": 25,
   "metadata": {},
   "outputs": [
    {
     "data": {
      "image/png": "[encoded data removed]",
      "text/plain": [
       "<matplotlib.figure.Figure at 0x7f9ae6edee80>"
      ]
     },
     "metadata": {
      "needs_background": "light"
     },
     "output_type": "display_data"
    }
   ],
   "source": [
    "plot_scores(scores, np.array(scores_window_mean), np.array(scores_window_std), \n",
    "            title='MADDPG Learning Curve', filename='report/figures/{}_score.pdf'.format(agent.__name__));"
   ]
  },
  {
   "cell_type": "markdown",
   "metadata": {},
   "source": [
    "## 5. Watch a smart agent"
   ]
  },
  {
   "cell_type": "code",
   "execution_count": null,
   "metadata": {},
   "outputs": [],
   "source": [
    "def smart_maddpg():\n",
    "    \"\"\"\"\"\"\n",
    "    for id in range(len(agent)):\n",
    "        actor_filename = 'checkpoints/{}_checkpoint_{}_{}.pth'.format(agent.__name__, \"actor\", id)\n",
    "        agent[id].actor_local.load_state_dict(torch.load(actor_filename))\n",
    "        \n",
    "        critic_filename = 'checkpoints/{}_checkpoint_{}_{}.pth'.format(agent.__name__, \"critic\", id)\n",
    "        agent[id].critic_local.load_state_dict(torch.load(critic_filename))\n",
    "    \n",
    "    states = env.reset(train_mode=False)                   # reset the environment\n",
    "    scores = np.zeros(env.num_agents)                      # initialize the score for each agent\n",
    "    \n",
    "    while True:\n",
    "        actions = agent.act(states)                        # select actions from loaded model agent\n",
    "        next_states, rewards, dones = env.step(actions)    # send the actions to the environment\n",
    "        scores += rewards                                  # update the score for each agent\n",
    "        states = next_states                               # roll over states to next time step\n",
    "        \n",
    "        if np.any(dones):                                  # exit loop if episode finished\n",
    "            break\n",
    "    return np.max(scores)\n",
    "\n",
    "print('Total score: {}'.format(smart_maddpg()))"
   ]
  },
  {
   "cell_type": "markdown",
   "metadata": {},
   "source": [
    "## Close the environment"
   ]
  },
  {
   "cell_type": "code",
   "execution_count": null,
   "metadata": {},
   "outputs": [],
   "source": [
    "env.close()"
   ]
  },
  {
   "cell_type": "code",
   "execution_count": null,
   "metadata": {},
   "outputs": [],
   "source": []
  }
 ],
 "metadata": {
  "kernelspec": {
   "display_name": "Python 3",
   "language": "python",
   "name": "python3"
  },
  "language_info": {
   "codemirror_mode": {
    "name": "ipython",
    "version": 3
   },
   "file_extension": ".py",
   "mimetype": "text/x-python",
   "name": "python",
   "nbconvert_exporter": "python",
   "pygments_lexer": "ipython3",
   "version": "3.6.3"
  }
 },
 "nbformat": 4,
 "nbformat_minor": 2
}